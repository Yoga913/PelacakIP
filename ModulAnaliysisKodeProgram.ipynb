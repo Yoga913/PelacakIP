{
 "cells": [
  {
   "cell_type": "markdown",
   "metadata": {},
   "source": [
    "# Analiyasys kode program java menggunakan teori:"
   ]
  },
  {
   "cell_type": "markdown",
   "metadata": {},
   "source": [
    "- guiMain.java"
   ]
  },
  {
   "cell_type": "markdown",
   "metadata": {},
   "source": [
    "teori:\n",
    "- printah masukan\n",
    "- form dengan secara konfesional\n",
    "- form jframe dan swing\n",
    "- implementasi logika"
   ]
  },
  {
   "cell_type": "markdown",
   "metadata": {},
   "source": [
    "1. Perintah Masukan yang di gunakan:\n",
    "\n",
    "Perintah masukan di kode ini adalah pengambilan teks dari `JTextField` yang kemudian digunakan untuk pencarian informasi IP.\n",
    "\n",
    "Bagian kode yang relevan adalah:"
   ]
  },
  {
   "cell_type": "code",
   "execution_count": null,
   "metadata": {
    "vscode": {
     "languageId": "java"
    }
   },
   "outputs": [],
   "source": [
    "private class lookup implements ActionListener {\n",
    "    public void actionPerformed(ActionEvent e) {\n",
    "        String ip = tf.getText(); // Ambil teks dari JTextField\n",
    "        // ... (logika lainnya)\n",
    "    }\n",
    "}"
   ]
  },
  {
   "cell_type": "markdown",
   "metadata": {},
   "source": [
    " 2. Form dengan Secara Konfesional yang di gunakan :\n",
    "\n",
    "Form secara konvensional merujuk pada penggunaan `JPanel`, `JTextField`, `JButton`, dan komponen lain untuk membentuk form input data.\n",
    "\n",
    " Di kode ini, form dibuat dengan komponen tersebut:"
   ]
  },
  {
   "cell_type": "code",
   "execution_count": null,
   "metadata": {
    "vscode": {
     "languageId": "java"
    }
   },
   "outputs": [],
   "source": [
    "public void setPanel1() {\n",
    "    panel1 = new JPanel();\n",
    "    panel2 = new JPanel();\n",
    "    \n",
    "    tf = new JTextField(12); // TextField untuk masukan IP\n",
    "    \n",
    "    button = new JButton();\n",
    "    button.addActionListener(new lookup()); // Tombol untuk pencarian IP\n",
    "    \n",
    "    panel2.setLayout(new FlowLayout(FlowLayout.CENTER, 10, 10));\n",
    "    panel2.add(tf); // Tambahkan TextField ke panel2\n",
    "    panel2.add(button); // Tambahkan tombol ke panel2\n",
    "    \n",
    "    // ... (pengaturan panel lainnya)\n",
    "}"
   ]
  },
  {
   "cell_type": "markdown",
   "metadata": {},
   "source": [
    "3. Form dan JFrame dan Swing digunakan:\n",
    "\n",
    "Form dan JFrame dan Swing merujuk pada penggunaan kelas-kelas dari pustaka Swing untuk membuat antarmuka grafis.\n",
    "\n",
    " Kode berikut menunjukkan penggunaan JFrame dan Swing untuk membentuk GUI:"
   ]
  },
  {
   "cell_type": "code",
   "execution_count": null,
   "metadata": {
    "vscode": {
     "languageId": "java"
    }
   },
   "outputs": [],
   "source": [
    "public class guiMain extends JFrame {\n",
    "    // ... (deklarasi komponen GUI)\n",
    "    \n",
    "    public guiMain() {\n",
    "        this.setTitle(\"Pelacak IP\");\n",
    "        this.setSize(750, 680);\n",
    "        this.setDefaultCloseOperation(JFrame.EXIT_ON_CLOSE);\n",
    "        setPanel1();\n",
    "        this.add(pane);\n",
    "        setMenuBar();\n",
    "        this.setJMenuBar(bar);\n",
    "        ImageIcon appIcon = new ImageIcon(getClass().getResource(\"/globe.png\"));\n",
    "        this.setIconImage(appIcon.getImage());\n",
    "        this.setResizable(false);\n",
    "        this.setVisible(true);\n",
    "    }\n",
    "    \n",
    "    // ... (metode lainnya)\n",
    "}"
   ]
  },
  {
   "cell_type": "markdown",
   "metadata": {},
   "source": [
    "4. Implementasi Logika yang di gunakan?\n",
    "\n",
    "Implementasi logika di sini mencakup penanganan event ketika tombol diklik, seperti pencarian informasi IP, ekspor hasil pencarian, dan keluar dari aplikasi. \n",
    "\n",
    "Contoh implementasi logika untuk pencarian IP adalah sebagai berikut:"
   ]
  },
  {
   "cell_type": "code",
   "execution_count": null,
   "metadata": {
    "vscode": {
     "languageId": "groovy"
    }
   },
   "outputs": [],
   "source": [
    "private class lookup implements ActionListener {\n",
    "    public void actionPerformed(ActionEvent e) {\n",
    "        String ip = tf.getText(); // Ambil teks dari JTextField\n",
    "        \n",
    "        if (ip.equals(null)) { // Cek apakah IP kosong\n",
    "            JOptionPane.showMessageDialog(null, \"NIlai IP TIdak Benar!\", \"ERROR!\", JOptionPane.ERROR_MESSAGE);\n",
    "            return;\n",
    "        } else {\n",
    "            tf.setText(null); // Bersihkan JTextField\n",
    "            textArea.setText(null); // Bersihkan JTextArea\n",
    "\n",
    "            try {\n",
    "                webRequests request = new webRequests(ip); // Buat objek webRequests dengan IP\n",
    "                ipObject object = request.CreateObject(); // Buat objek ipObject dari request\n",
    "                String text = object.GetObjectValue(); // Ambil nilai dari objek\n",
    "                textArea.setFont(new Font(Font.MONOSPACED, Font.PLAIN, 20));\n",
    "                textArea.setText(text); // Set teks pada JTextArea\n",
    "                System.out.println(object.GetObjectValue());\n",
    "            } catch (IOException e1) {\n",
    "                e1.printStackTrace();\n",
    "            } catch (InterruptedException e1) {\n",
    "                e1.printStackTrace();\n",
    "            }\n",
    "        }\n",
    "    }\n",
    "}"
   ]
  },
  {
   "cell_type": "markdown",
   "metadata": {},
   "source": [
    "- ipObject.java"
   ]
  },
  {
   "cell_type": "markdown",
   "metadata": {},
   "source": [
    "teori:\n",
    "- form dengan scara konfensional\n",
    "- implementasi logika"
   ]
  },
  {
   "cell_type": "markdown",
   "metadata": {},
   "source": [
    "1. Form dengan Secara Konfesional yang digunakan:\n",
    "\n",
    "Form secara konvensional merujuk pada penggunaan getter dan setter atau struktur kelas untuk mengatur data. Kelas `ipObject` ini mengikuti konvensi dengan mendefinisikan properti dan getter untuk setiap properti."
   ]
  },
  {
   "cell_type": "markdown",
   "metadata": {},
   "source": [
    "2. Implementasi Logika Apa?\n",
    "\n",
    "Implementasi logika di sini adalah metode `GetObjectValue()` yang mengembalikan semua nilai properti dalam bentuk string yang diformat. Bagian kodenya adalah:\n"
   ]
  },
  {
   "cell_type": "code",
   "execution_count": null,
   "metadata": {
    "vscode": {
     "languageId": "java"
    }
   },
   "outputs": [],
   "source": [
    "public String GetObjectValue() {\n",
    "    String vals =            \n",
    "\"Alamat IP:               \"+ ip + \"\\n\" + \n",
    "\"Versi  IP:               \"+ version + \"\\n\" +         \n",
    "\"Kota:                    \"+ city + \"\\n\" +   \n",
    "\"Wilayah:                 \"+ region + \"\\n\" +   \n",
    "\"Kode Wilayah:            \"+ region_code + \"\\n\" +   \n",
    "\"Negara:                  \"+ country + \"\\n\" +   \n",
    "\"Nama Negara:             \"+ country_name + \"\\n\" +   \n",
    "\"Kode Negara :            \"+ country_code + \"\\n\" +   \n",
    "\"Kode Negara ISO:         \"+ country_code_iso3 + \"\\n\" +   \n",
    "\"Ibukota Negara:          \"+ country_capital + \"\\n\" +   \n",
    "\"Tld Negara:              \"+ country_tld + \"\\n\" +   \n",
    "\"Kode Benua:              \"+ continent_code + \"\\n\" +   \n",
    "\"In EU?:                  \"+ in_eu + \"\\n\" +   \n",
    "\"Kode Pos:                \"+ postal + \"\\n\" +\n",
    "\"Lintang:                 \"+ latitude + \"\\n\" +   \n",
    "\"Bujur:                   \"+ longitude + \"\\n\" +   \n",
    "\"Zona Waktu:              \"+ timezone + \"\\n\" +   \n",
    "\"Offset UTC:              \"+ utc_offset + \"\\n\" +   \n",
    "\"Kode Panggilan Negara:   \"+ country_calling_code + \"\\n\" +   \n",
    "\"Mata Uang:               \"+ currency + \"\\n\" +   \n",
    "\"Nama Mata Uang:          \"+ currency_name + \"\\n\" +   \n",
    "\"Bahasa:                  \"+ languages + \"\\n\" +   \n",
    "\"Luas Negara:             \"+ country_area + \"\\n\" +   \n",
    "\"Populasi Negara:         \"+ country_population + \"\\n\" +   \n",
    "\"IP ASN:                  \"+ asn + \"\\n\" +   \n",
    "\"Organisasi:              \"+ org;\n",
    "\n",
    "    return vals;\n",
    "}"
   ]
  },
  {
   "cell_type": "markdown",
   "metadata": {},
   "source": [
    "- webRequest"
   ]
  },
  {
   "cell_type": "markdown",
   "metadata": {},
   "source": [
    "teori:\n",
    "- form dengan secara konfensional\n",
    "- implementasi logika"
   ]
  },
  {
   "cell_type": "markdown",
   "metadata": {},
   "source": [
    "1. Form dengan Secara Konfesional yang digunakan:\n",
    "\n",
    "Form secara konvensional merujuk pada penggunaan getter dan setter atau struktur kelas untuk mengatur data. Dalam kode ini, kelas `webRequests` menggunakan getter dan setter untuk mengakses dan memodifikasi variabel global `ip`, `url`, dan `ipobj`.\n",
    "\n",
    "Berikut adalah bagian kodenya:"
   ]
  },
  {
   "cell_type": "code",
   "execution_count": null,
   "metadata": {
    "vscode": {
     "languageId": "java"
    }
   },
   "outputs": [],
   "source": [
    "public String getIp() {\n",
    "    return ip;\n",
    "}\n",
    "\n",
    "public void setIp(String tip) {\n",
    "    ip = tip;\n",
    "}\n",
    "\n",
    "public String getUrl() {\n",
    "    return url;\n",
    "}\n",
    "\n",
    "public void setUrl(String url) {\n",
    "    this.url = url;\n",
    "}\n",
    "\n",
    "public ipObject getIpobj() {\n",
    "    return ipobj;\n",
    "}\n",
    "\n",
    "public void setIpobj(ipObject ipobj) {\n",
    "    this.ipobj = ipobj;\n",
    "}"
   ]
  },
  {
   "cell_type": "markdown",
   "metadata": {},
   "source": [
    " 2. Implementasi Logika digunakan:\n",
    "\n",
    "Implementasi logika di sini mencakup beberapa metode yang menangani pengaturan URI, pengiriman permintaan web, dan pemetaan respons JSON ke objek POJO (`ipObject`). \n",
    "\n",
    "Berikut adalah bagian kodenya:"
   ]
  },
  {
   "cell_type": "markdown",
   "metadata": {},
   "source": [
    "1. **Metode `setURI`**:"
   ]
  },
  {
   "cell_type": "code",
   "execution_count": null,
   "metadata": {
    "vscode": {
     "languageId": "java"
    }
   },
   "outputs": [],
   "source": [
    "public URI setURI(String ip) {\n",
    "    // Membuat URI menggunakan template URL dengan IP yang diberikan\n",
    "    URI uri = URI.create(\"https://ipapi.co/\" + ip + \"/json/\");\n",
    "    return uri;\n",
    "}"
   ]
  },
  {
   "cell_type": "markdown",
   "metadata": {},
   "source": [
    "2. **Metode `requestJson`**:"
   ]
  },
  {
   "cell_type": "code",
   "execution_count": null,
   "metadata": {
    "vscode": {
     "languageId": "java"
    }
   },
   "outputs": [],
   "source": [
    "public String requestJson(URI uri) throws IOException, InterruptedException {\n",
    "    // Membuat HttpClient baru\n",
    "    HttpClient client = HttpClient.newHttpClient();\n",
    "    // Membuat HttpRequest dengan metode GET dan URI yang diberikan\n",
    "    HttpRequest ipRequest = HttpRequest.newBuilder()\n",
    "            .GET()\n",
    "            .uri(uri)\n",
    "            //.header(null, null) // Baris ini dikomentari dan tidak digunakan\n",
    "            .build();\n",
    "    \n",
    "    // Mengirimkan permintaan dan mendapatkan respons\n",
    "    HttpResponse<String> response = client.send(ipRequest, BodyHandlers.ofString());\n",
    "    // Mengembalikan isi respons sebagai string\n",
    "    return response.body();\n",
    "}\n"
   ]
  },
  {
   "cell_type": "markdown",
   "metadata": {},
   "source": [
    "3. **Metode `MapObjects`**:"
   ]
  },
  {
   "cell_type": "code",
   "execution_count": null,
   "metadata": {
    "vscode": {
     "languageId": "java"
    }
   },
   "outputs": [],
   "source": [
    "public void MapObjects(String jsonFile) throws JsonMappingException, JsonProcessingException {\n",
    "    // Membuat ObjectMapper baru\n",
    "    ObjectMapper mapper = new ObjectMapper();\n",
    "    // Membaca JSON dan mengubahnya menjadi JsonNode\n",
    "    JsonNode node = mapper.readTree(jsonFile);\n",
    "    // Mengubah JsonNode menjadi objek ipObject\n",
    "    ipobj = mapper.treeToValue(node, ipObject.class);\n",
    "}"
   ]
  },
  {
   "cell_type": "markdown",
   "metadata": {},
   "source": [
    "4. **Konstruktor `webRequests`**:"
   ]
  },
  {
   "cell_type": "code",
   "execution_count": null,
   "metadata": {
    "vscode": {
     "languageId": "java"
    }
   },
   "outputs": [],
   "source": [
    "public webRequests(String ip) throws IOException, InterruptedException {\n",
    "    // Mengatur IP yang diberikan ke variabel global\n",
    "    setIp(ip);\n",
    "    // Membuat URI berdasarkan IP yang diberikan\n",
    "    URI uriNeeded = setURI(ip);\n",
    "    // Mengirimkan permintaan dan mendapatkan file JSON\n",
    "    String jsonFile = requestJson(uriNeeded);\n",
    "    // Memetakan JSON ke objek ipObject\n",
    "    MapObjects(jsonFile);\n",
    "}"
   ]
  },
  {
   "cell_type": "markdown",
   "metadata": {},
   "source": [
    "# Kesimpulan Inti dari Ketiga Kode Program (guiMain, ipObject, webRequests)\n",
    "\n",
    "Ketiga kode program (guiMain, ipObject, webRequests) saling terkait dalam cara mereka mengelola data IP dan menampilkan hasilnya kepada pengguna. Berikut adalah ringkasan inti dari masing-masing:\n",
    "\n",
    "- guiMain: Mengatur antarmuka pengguna dan menangani input serta interaksi pengguna melalui GUI.\n",
    "\n",
    "- ipObject: Mewakili struktur data untuk menyimpan informasi yang diterima dari API berdasarkan alamat IP.\n",
    "\n",
    "- webRequests: Mengirimkan permintaan web untuk mendapatkan data berdasarkan IP, kemudian memetakan data JSON yang diterima ke dalam objek ipObject.\n",
    "\n",
    "Ketiga komponen ini bekerja bersama untuk mengambil data dari API berdasarkan input IP dari pengguna, memproses data tersebut, dan menampilkannya kembali kepada pengguna melalui antarmuka grafis."
   ]
  }
 ],
 "metadata": {
  "language_info": {
   "name": "python"
  }
 },
 "nbformat": 4,
 "nbformat_minor": 2
}
